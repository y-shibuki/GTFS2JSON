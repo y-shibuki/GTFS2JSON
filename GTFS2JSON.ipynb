{
 "cells": [
  {
   "attachments": {},
   "cell_type": "markdown",
   "metadata": {},
   "source": [
    "# GTFSのデータからYoshida’s MapboxGLに読み込ませるためのデータに変換する処理"
   ]
  },
  {
   "attachments": {},
   "cell_type": "markdown",
   "metadata": {},
   "source": [
    "## PandasとGeoPandasのインポート"
   ]
  },
  {
   "cell_type": "code",
   "execution_count": 9,
   "metadata": {},
   "outputs": [],
   "source": [
    "import pandas as pd\n",
    "import geopandas as gpd\n",
    "from shapely import LineString\n",
    "from shapely.ops import linemerge\n",
    "\n",
    "#  GTFSデータが格納されているフォルダの絶対パス\n",
    "folder_path = \"kanto_GTFS\""
   ]
  },
  {
   "attachments": {},
   "cell_type": "markdown",
   "metadata": {},
   "source": [
    "## データの読み込み"
   ]
  },
  {
   "cell_type": "code",
   "execution_count": 2,
   "metadata": {},
   "outputs": [],
   "source": [
    "df_shapes = pd.read_csv(f\"./{folder_path}/shapes.txt\")\n",
    "df_stops = pd.read_csv(f\"./{folder_path}/stops.txt\")\n",
    "df_stop_times = pd.read_csv(f\"./{folder_path}/stop_times.txt\")\n",
    "df_trips = pd.read_csv(f\"./{folder_path}/trips.txt\")"
   ]
  },
  {
   "attachments": {},
   "cell_type": "markdown",
   "metadata": {},
   "source": [
    "## shapes.txtからルート情報を抽出する処理"
   ]
  },
  {
   "cell_type": "code",
   "execution_count": 11,
   "metadata": {},
   "outputs": [
    {
     "data": {
      "text/html": [
       "<div>\n",
       "<style scoped>\n",
       "    .dataframe tbody tr th:only-of-type {\n",
       "        vertical-align: middle;\n",
       "    }\n",
       "\n",
       "    .dataframe tbody tr th {\n",
       "        vertical-align: top;\n",
       "    }\n",
       "\n",
       "    .dataframe thead th {\n",
       "        text-align: right;\n",
       "    }\n",
       "</style>\n",
       "<table border=\"1\" class=\"dataframe\">\n",
       "  <thead>\n",
       "    <tr style=\"text-align: right;\">\n",
       "      <th></th>\n",
       "      <th>shape_id</th>\n",
       "      <th>coord</th>\n",
       "      <th>geometry</th>\n",
       "    </tr>\n",
       "  </thead>\n",
       "  <tbody>\n",
       "    <tr>\n",
       "      <th>0</th>\n",
       "      <td>SP000001</td>\n",
       "      <td>[[139.8288811, 36.4663989], [139.828826, 36.46...</td>\n",
       "      <td>LINESTRING (139.8288811 36.4663989, 139.828826...</td>\n",
       "    </tr>\n",
       "    <tr>\n",
       "      <th>1</th>\n",
       "      <td>SP000002</td>\n",
       "      <td>[[139.8253048, 36.4714155], [139.825302, 36.47...</td>\n",
       "      <td>LINESTRING (139.8253048 36.4714155, 139.825302...</td>\n",
       "    </tr>\n",
       "    <tr>\n",
       "      <th>2</th>\n",
       "      <td>SP000003</td>\n",
       "      <td>[[139.8741129, 36.641033], [139.874053, 36.640...</td>\n",
       "      <td>LINESTRING (139.8741129 36.641033, 139.874053 ...</td>\n",
       "    </tr>\n",
       "    <tr>\n",
       "      <th>3</th>\n",
       "      <td>SP000004</td>\n",
       "      <td>[[139.8741129, 36.641033], [139.874053, 36.640...</td>\n",
       "      <td>LINESTRING (139.8741129 36.641033, 139.874053 ...</td>\n",
       "    </tr>\n",
       "    <tr>\n",
       "      <th>4</th>\n",
       "      <td>SP000005</td>\n",
       "      <td>[[139.9623675, 36.6818642], [139.962448, 36.68...</td>\n",
       "      <td>LINESTRING (139.9623675 36.6818642, 139.962448...</td>\n",
       "    </tr>\n",
       "    <tr>\n",
       "      <th>...</th>\n",
       "      <td>...</td>\n",
       "      <td>...</td>\n",
       "      <td>...</td>\n",
       "    </tr>\n",
       "    <tr>\n",
       "      <th>262</th>\n",
       "      <td>SP000263</td>\n",
       "      <td>[[139.9484122, 36.6381795], [139.948455, 36.63...</td>\n",
       "      <td>LINESTRING (139.9484122 36.6381795, 139.948455...</td>\n",
       "    </tr>\n",
       "    <tr>\n",
       "      <th>263</th>\n",
       "      <td>SP000264</td>\n",
       "      <td>[[139.845055, 36.5913938], [139.845077, 36.591...</td>\n",
       "      <td>LINESTRING (139.845055 36.5913938, 139.845077 ...</td>\n",
       "    </tr>\n",
       "    <tr>\n",
       "      <th>264</th>\n",
       "      <td>SP000265</td>\n",
       "      <td>[[139.9484122, 36.6381795], [139.948455, 36.63...</td>\n",
       "      <td>LINESTRING (139.9484122 36.6381795, 139.948455...</td>\n",
       "    </tr>\n",
       "    <tr>\n",
       "      <th>265</th>\n",
       "      <td>SP000266</td>\n",
       "      <td>[[139.9166509, 36.477216], [139.916656, 36.477...</td>\n",
       "      <td>LINESTRING (139.9166509 36.477216, 139.916656 ...</td>\n",
       "    </tr>\n",
       "    <tr>\n",
       "      <th>266</th>\n",
       "      <td>SP000267</td>\n",
       "      <td>[[139.9614001, 36.5688127], [139.961517, 36.56...</td>\n",
       "      <td>LINESTRING (139.9614001 36.5688127, 139.961517...</td>\n",
       "    </tr>\n",
       "  </tbody>\n",
       "</table>\n",
       "<p>267 rows × 3 columns</p>\n",
       "</div>"
      ],
      "text/plain": [
       "     shape_id                                              coord   \n",
       "0    SP000001  [[139.8288811, 36.4663989], [139.828826, 36.46...  \\\n",
       "1    SP000002  [[139.8253048, 36.4714155], [139.825302, 36.47...   \n",
       "2    SP000003  [[139.8741129, 36.641033], [139.874053, 36.640...   \n",
       "3    SP000004  [[139.8741129, 36.641033], [139.874053, 36.640...   \n",
       "4    SP000005  [[139.9623675, 36.6818642], [139.962448, 36.68...   \n",
       "..        ...                                                ...   \n",
       "262  SP000263  [[139.9484122, 36.6381795], [139.948455, 36.63...   \n",
       "263  SP000264  [[139.845055, 36.5913938], [139.845077, 36.591...   \n",
       "264  SP000265  [[139.9484122, 36.6381795], [139.948455, 36.63...   \n",
       "265  SP000266  [[139.9166509, 36.477216], [139.916656, 36.477...   \n",
       "266  SP000267  [[139.9614001, 36.5688127], [139.961517, 36.56...   \n",
       "\n",
       "                                              geometry  \n",
       "0    LINESTRING (139.8288811 36.4663989, 139.828826...  \n",
       "1    LINESTRING (139.8253048 36.4714155, 139.825302...  \n",
       "2    LINESTRING (139.8741129 36.641033, 139.874053 ...  \n",
       "3    LINESTRING (139.8741129 36.641033, 139.874053 ...  \n",
       "4    LINESTRING (139.9623675 36.6818642, 139.962448...  \n",
       "..                                                 ...  \n",
       "262  LINESTRING (139.9484122 36.6381795, 139.948455...  \n",
       "263  LINESTRING (139.845055 36.5913938, 139.845077 ...  \n",
       "264  LINESTRING (139.9484122 36.6381795, 139.948455...  \n",
       "265  LINESTRING (139.9166509 36.477216, 139.916656 ...  \n",
       "266  LINESTRING (139.9614001 36.5688127, 139.961517...  \n",
       "\n",
       "[267 rows x 3 columns]"
      ]
     },
     "execution_count": 11,
     "metadata": {},
     "output_type": "execute_result"
    }
   ],
   "source": [
    "# 座標データに[経度, 緯度]の情報を書き込み\n",
    "df_shapes[\"coord\"] = df_shapes[[\"shape_pt_lon\", \"shape_pt_lat\"]].values.tolist()\n",
    "\n",
    "# shape_idごとに座標データをまとめる\n",
    "df_routes = df_shapes.groupby(by=\"shape_id\", as_index=False)[\"coord\"].apply(list)\n",
    "df_routes[\"geometry\"] = df_routes[\"coord\"].apply(lambda x: LineString(x))\n",
    "\n",
    "# shape_idごとに座標データをまとめて、JSONファイルに出力\n",
    "# 座標データに沿って、バスを動かすために用いるファイル\n",
    "df_routes[[\"shape_id\", \"coord\"]].to_json(\"routes.json\", orient=\"records\")\n",
    "\n",
    "# shape_idごとに座標データをまとめて、GeoJSONファイルに出力\n",
    "gpd.GeoDataFrame(df_routes[[\"shape_id\", \"geometry\"]]).to_file(\"routes.geojson\")\n",
    "\n",
    "df_routes"
   ]
  },
  {
   "cell_type": "code",
   "execution_count": 20,
   "metadata": {},
   "outputs": [],
   "source": [
    "# 重複するルートを削除することで、データの軽量化を図る\n",
    "merged_routes = linemerge(df_routes[\"geometry\"].to_list())\n",
    "merged_routes = merged_routes.intersection(merged_routes)\n",
    "\n",
    "gpd.GeoDataFrame({\n",
    "    \"geometry\": [merged_routes]\n",
    "    }).to_file(\"routes_simplify.geojson\")"
   ]
  },
  {
   "cell_type": "code",
   "execution_count": null,
   "metadata": {},
   "outputs": [],
   "source": [
    "k.apply(lambda x: list(reversed(x)))"
   ]
  },
  {
   "cell_type": "code",
   "execution_count": null,
   "metadata": {},
   "outputs": [],
   "source": [
    "res = []\n",
    "for i, r in k.items():\n",
    "    l_reversed = list(reversed(r))\n",
    "    for x in res:\n",
    "        if l_reversed == x:\n",
    "            break\n",
    "    else:\n",
    "        res.append(r)\n",
    "        print(i)\n",
    "\n",
    "\n",
    "res"
   ]
  },
  {
   "attachments": {},
   "cell_type": "markdown",
   "metadata": {},
   "source": []
  },
  {
   "attachments": {},
   "cell_type": "markdown",
   "metadata": {},
   "source": [
    "## デバッグ用"
   ]
  },
  {
   "attachments": {},
   "cell_type": "markdown",
   "metadata": {},
   "source": [
    "### direction_idとshape_idが一意に対応しているかを確認するコード"
   ]
  },
  {
   "cell_type": "code",
   "execution_count": null,
   "metadata": {},
   "outputs": [],
   "source": [
    "df_ = df_trips.drop_duplicates([\"shape_id\", \"direction_id\"])[[\"shape_id\", \"direction_id\"]]\n",
    "print(\"shape_idとdirection_idの組み合わせの個数\", len(df_))\n",
    "print(\"shape_idの個数\", len(df_shapes[\"shape_id\"].unique()))\n",
    "print(len(df_) == len(df_shapes[\"shape_id\"].unique()))"
   ]
  }
 ],
 "metadata": {
  "kernelspec": {
   "display_name": "py310",
   "language": "python",
   "name": "python3"
  },
  "language_info": {
   "codemirror_mode": {
    "name": "ipython",
    "version": 3
   },
   "file_extension": ".py",
   "mimetype": "text/x-python",
   "name": "python",
   "nbconvert_exporter": "python",
   "pygments_lexer": "ipython3",
   "version": "3.10.10"
  },
  "orig_nbformat": 4
 },
 "nbformat": 4,
 "nbformat_minor": 2
}
